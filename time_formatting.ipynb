{
 "cells": [
  {
   "cell_type": "code",
   "execution_count": null,
   "metadata": {},
   "outputs": [],
   "source": [
    "import pandas as pd\n",
    "import numpy as np"
   ]
  },
  {
   "cell_type": "code",
   "execution_count": null,
   "metadata": {},
   "outputs": [],
   "source": [
    "data = pd.read_csv(\"Data/all_devices.csv\", sep=\",\")\n",
    "gpu = ['GTX980ti (2015)', 'GTX1080ti (2017)', 'RTX2080ti (2018)', 'RTX3090 (2020)', 'RTX4090 (2022)']\n",
    "scores = [4981,  9421,  14621,  19977,  36529]\n",
    "zip_hash =  [6212,12920,20577,955900,2699700]\n",
    "gpu_scores = pd.DataFrame(list(zip(gpu, scores)), columns = ['GPU', 'scores'])\n",
    "zip_scores = pd.DataFrame(list(zip(gpu, zip_hash)), columns = ['GPU', 'Hashes (H/s)'])\n",
    "\n",
    "scores_vergleich = [6707,  12920,  20577,  955900,  2699700]\n",
    "zip_df = pd.DataFrame(list(zip(gpu, scores_vergleich)), columns = ['GPU', 'speed (H/s)'])\n",
    "zip_df[\"hash_mode\"] = \"7-Zip\"\n",
    "\n",
    "scores_vergleich = [13944,  20945,  26544,  96662,  184000]\n",
    "SHA_df = pd.DataFrame(list(zip(gpu, scores_vergleich)), columns = ['GPU', 'speed (H/s)'])\n",
    "SHA_df[\"hash_mode\"] = \"bcrypt\"\n",
    "\n",
    "scores_vergleich = [33066000000,  58138500000,  73602400000,  121200000000,  288500000000]\n",
    "third_df = pd.DataFrame(list(zip(gpu, scores_vergleich)), columns = ['GPU', 'speed (H/s)'])\n",
    "third_df[\"hash_mode\"] = \"NTLM\"\n",
    "\n",
    "scores_vergleich = [4404800000, 114781000000, 159246000000, 227576000000, 506387000000]\n",
    "fourth_df = pd.DataFrame(list(zip(gpu, scores_vergleich)), columns = ['GPU', 'speed (H/s)'])\n",
    "fourth_df[\"hash_mode\"] = \"SHA-1\"\n",
    "\n",
    "data_vergleich = pd.concat([zip_df, SHA_df, third_df, fourth_df], ignore_index=True)\n",
    "data_vergleich_personal = pd.concat([zip_df, SHA_df, third_df, fourth_df], ignore_index=True)"
   ]
  },
  {
   "cell_type": "code",
   "execution_count": null,
   "metadata": {},
   "outputs": [],
   "source": [
    "def timerequired(kombinationen, gpu, anzahl_gpus):\n",
    "    my_time = kombinationen / data_vergleich[data_vergleich[\"GPU\"]==gpu][\"speed (H/s)\"].item() / anzahl_gpus\n",
    "    my_day = my_time // (24 * 3600)\n",
    "    my_time = my_time % (24 * 3600)\n",
    "    my_hour = my_time // 3600\n",
    "    my_time %= 3600\n",
    "    my_minutes = my_time // 60\n",
    "    my_time %= 60\n",
    "    my_seconds = my_time\n",
    "    #mystring = str(my_day) + \":\" + str(my_hour) + \":\" + str(my_minutes) + \":\" + str(my_seconds)\n",
    "    mystring = str(\"%d:%d:%d:%d\" % (my_day, my_hour, my_minutes, my_seconds))\n",
    "    return mystring"
   ]
  },
  {
   "cell_type": "code",
   "execution_count": null,
   "metadata": {},
   "outputs": [],
   "source": [
    "kombinationen = 94**7\n",
    "anzahl_gpus = 8"
   ]
  },
  {
   "cell_type": "code",
   "execution_count": null,
   "metadata": {},
   "outputs": [],
   "source": [
    "data_vergleich = data_vergleich[data_vergleich['hash_mode']=='7-Zip']"
   ]
  },
  {
   "cell_type": "code",
   "execution_count": null,
   "metadata": {},
   "outputs": [],
   "source": [
    "timerequired(kombinationen, \"GTX980ti (2015)\", anzahl_gpus)"
   ]
  },
  {
   "cell_type": "code",
   "execution_count": null,
   "metadata": {},
   "outputs": [],
   "source": [
    "def pretty_time(kombinationen, gpu, anzahl_gpus):\n",
    "    time_str = timerequired(kombinationen, gpu, anzahl_gpus)\n",
    "    time_list = time_str.split(':')\n",
    "    days, hours, minutes, seconds = [int(x) for x in time_list]\n",
    "    weeks = days//7\n",
    "    months = days // 30\n",
    "    years = days // 365\n",
    "    millenium = days // 365 * 1_000\n",
    "    million_years = days // 365 * 1_000_000\n",
    "    billion_years = days // 365 * 1_000_000_000\n",
    "    if billion_years:\n",
    "        return f'{billion_years} bn yrs'\n",
    "    if million_years:\n",
    "        return f'{million_years} mn yrs'\n",
    "    if millenium:\n",
    "        return f'{millenium} k yrs'\n",
    "    if years:\n",
    "        return f'{years} yrs'\n",
    "    if months:\n",
    "        return f'{months} months'\n",
    "    return time_str"
   ]
  },
  {
   "cell_type": "code",
   "execution_count": 21,
   "metadata": {},
   "outputs": [
    {
     "name": "stdout",
     "output_type": "stream",
     "text": [
      "13988\n"
     ]
    }
   ],
   "source": [
    "pretty_time(kombinationen, \"GTX980ti (2015)\", anzahl_gpus)"
   ]
  },
  {
   "cell_type": "code",
   "execution_count": 23,
   "metadata": {},
   "outputs": [],
   "source": [
    "a = 0\n",
    "if a:\n",
    "    print('Hi')"
   ]
  }
 ],
 "metadata": {
  "kernelspec": {
   "display_name": "Python 3.9.6 ('RDL-QLOx3KEI')",
   "language": "python",
   "name": "python3"
  },
  "language_info": {
   "codemirror_mode": {
    "name": "ipython",
    "version": 3
   },
   "file_extension": ".py",
   "mimetype": "text/x-python",
   "name": "python",
   "nbconvert_exporter": "python",
   "pygments_lexer": "ipython3",
   "version": "3.9.6"
  },
  "orig_nbformat": 4,
  "vscode": {
   "interpreter": {
    "hash": "6f049a456b01b87e7c3f0f72ecd65fe19b7e617110307c5893f3cf4b582a868c"
   }
  }
 },
 "nbformat": 4,
 "nbformat_minor": 2
}
