{
 "cells": [
  {
   "cell_type": "code",
   "execution_count": 117,
   "metadata": {},
   "outputs": [],
   "source": [
    "import pandas as pd"
   ]
  },
  {
   "cell_type": "code",
   "execution_count": 118,
   "metadata": {},
   "outputs": [
    {
     "name": "stdout",
     "output_type": "stream",
     "text": [
      "Index(['id', 'hash_mode', 'speed', 'accel', 'loops'], dtype='object')\n",
      "Index(['id', 'hash_mode', 'speed', 'accel', 'loops', 'thr', 'vec'], dtype='object')\n",
      "Index(['id', 'hash_mode', 'speed', 'accel', 'loops', 'thr', 'vec'], dtype='object')\n",
      "Index(['id', 'hash_mode', 'speed', 'accel', 'loops', 'thr', 'vec'], dtype='object')\n",
      "Index(['id', 'hash_mode', 'speed', 'accel', 'loops', 'thr', 'vec'], dtype='object')\n"
     ]
    }
   ],
   "source": [
    "# Merge datasets\n",
    "data_GTX980ti = pd.read_csv(\"Data/GTX980ti.csv\", sep=\",\")\n",
    "print(data_GTX980ti.columns)\n",
    "data_GTX1080ti = pd.read_csv(\"Data/GTX1080ti.csv\", sep=\",\")\n",
    "print(data_GTX1080ti.columns)\n",
    "data_GTX2080ti = pd.read_csv(\"Data/GTX2080ti.csv\", sep=\",\")\n",
    "print(data_GTX2080ti.columns)\n",
    "data_GTX3090 = pd.read_csv(\"Data/GTX3090.csv\", sep=\",\")\n",
    "print(data_GTX3090.columns)\n",
    "data_GTX4090 = pd.read_csv(\"Data/GTX4090.csv\", sep=\",\")\n",
    "print(data_GTX4090.columns)"
   ]
  },
  {
   "cell_type": "code",
   "execution_count": 119,
   "metadata": {},
   "outputs": [],
   "source": [
    "# Add device column\n",
    "data_GTX980ti[\"GPU\"] = \"GTX980ti\"\n",
    "data_GTX1080ti[\"GPU\"] = \"GTX1080ti\"\n",
    "data_GTX2080ti[\"GPU\"] = \"GTX2080ti\"\n",
    "data_GTX3090[\"GPU\"] = \"GTX3090\"\n",
    "data_GTX4090[\"GPU\"] = \"GTX4090\"\n",
    "\n",
    "# Merge datasets\n",
    "data = pd.concat([data_GTX980ti, data_GTX1080ti, data_GTX2080ti, data_GTX3090, data_GTX4090], ignore_index=True)"
   ]
  },
  {
   "cell_type": "code",
   "execution_count": 120,
   "metadata": {},
   "outputs": [
    {
     "data": {
      "text/html": [
       "<div>\n",
       "<style scoped>\n",
       "    .dataframe tbody tr th:only-of-type {\n",
       "        vertical-align: middle;\n",
       "    }\n",
       "\n",
       "    .dataframe tbody tr th {\n",
       "        vertical-align: top;\n",
       "    }\n",
       "\n",
       "    .dataframe thead th {\n",
       "        text-align: right;\n",
       "    }\n",
       "</style>\n",
       "<table border=\"1\" class=\"dataframe\">\n",
       "  <thead>\n",
       "    <tr style=\"text-align: right;\">\n",
       "      <th></th>\n",
       "      <th>id</th>\n",
       "      <th>hash_mode</th>\n",
       "      <th>speed</th>\n",
       "      <th>accel</th>\n",
       "      <th>loops</th>\n",
       "      <th>GPU</th>\n",
       "      <th>thr</th>\n",
       "      <th>vec</th>\n",
       "    </tr>\n",
       "  </thead>\n",
       "  <tbody>\n",
       "    <tr>\n",
       "      <th>0</th>\n",
       "      <td>0</td>\n",
       "      <td>MD4</td>\n",
       "      <td>32948.8 MH/s</td>\n",
       "      <td>256</td>\n",
       "      <td>1024</td>\n",
       "      <td>GTX980ti</td>\n",
       "      <td>NaN</td>\n",
       "      <td>NaN</td>\n",
       "    </tr>\n",
       "    <tr>\n",
       "      <th>1</th>\n",
       "      <td>1</td>\n",
       "      <td>MD5</td>\n",
       "      <td>15818.6 MH/s</td>\n",
       "      <td>256</td>\n",
       "      <td>1024</td>\n",
       "      <td>GTX980ti</td>\n",
       "      <td>NaN</td>\n",
       "      <td>NaN</td>\n",
       "    </tr>\n",
       "    <tr>\n",
       "      <th>2</th>\n",
       "      <td>2</td>\n",
       "      <td>Half MD5</td>\n",
       "      <td>7528.8 MH/s</td>\n",
       "      <td>256</td>\n",
       "      <td>1024</td>\n",
       "      <td>GTX980ti</td>\n",
       "      <td>NaN</td>\n",
       "      <td>NaN</td>\n",
       "    </tr>\n",
       "    <tr>\n",
       "      <th>3</th>\n",
       "      <td>3</td>\n",
       "      <td>SHA1</td>\n",
       "      <td>5172.0 MH/s</td>\n",
       "      <td>256</td>\n",
       "      <td>1024</td>\n",
       "      <td>GTX980ti</td>\n",
       "      <td>NaN</td>\n",
       "      <td>NaN</td>\n",
       "    </tr>\n",
       "    <tr>\n",
       "      <th>4</th>\n",
       "      <td>4</td>\n",
       "      <td>SHA256</td>\n",
       "      <td>1963.4 MH/s</td>\n",
       "      <td>256</td>\n",
       "      <td>1024</td>\n",
       "      <td>GTX980ti</td>\n",
       "      <td>NaN</td>\n",
       "      <td>NaN</td>\n",
       "    </tr>\n",
       "    <tr>\n",
       "      <th>...</th>\n",
       "      <td>...</td>\n",
       "      <td>...</td>\n",
       "      <td>...</td>\n",
       "      <td>...</td>\n",
       "      <td>...</td>\n",
       "      <td>...</td>\n",
       "      <td>...</td>\n",
       "      <td>...</td>\n",
       "    </tr>\n",
       "    <tr>\n",
       "      <th>1515</th>\n",
       "      <td>464</td>\n",
       "      <td>29600 (Terra Station Wallet (AES256-CBC(PBKDF2...</td>\n",
       "      <td>70117.1 kH/s (19.78ms)</td>\n",
       "      <td>256</td>\n",
       "      <td>99</td>\n",
       "      <td>GTX4090</td>\n",
       "      <td>64.0</td>\n",
       "      <td>1.0</td>\n",
       "    </tr>\n",
       "    <tr>\n",
       "      <th>1516</th>\n",
       "      <td>465</td>\n",
       "      <td>29700 (KeePass 1 (AES/Twofish) and KeePass 2 (...</td>\n",
       "      <td>133.1 kH/s (67.00ms)</td>\n",
       "      <td>64</td>\n",
       "      <td>256</td>\n",
       "      <td>GTX4090</td>\n",
       "      <td>256.0</td>\n",
       "      <td>1.0</td>\n",
       "    </tr>\n",
       "    <tr>\n",
       "      <th>1517</th>\n",
       "      <td>466</td>\n",
       "      <td>30000 (Python Werkzeug MD5 (HMAC-MD5 (key = $s...</td>\n",
       "      <td>55627.6 MH/s (76.89ms)</td>\n",
       "      <td>128</td>\n",
       "      <td>1024</td>\n",
       "      <td>GTX4090</td>\n",
       "      <td>256.0</td>\n",
       "      <td>1.0</td>\n",
       "    </tr>\n",
       "    <tr>\n",
       "      <th>1518</th>\n",
       "      <td>467</td>\n",
       "      <td>30120 (Python Werkzeug SHA256 (HMAC-SHA256 (ke...</td>\n",
       "      <td>9349.1 MH/s (57.20ms)</td>\n",
       "      <td>32</td>\n",
       "      <td>256</td>\n",
       "      <td>GTX4090</td>\n",
       "      <td>512.0</td>\n",
       "      <td>1.0</td>\n",
       "    </tr>\n",
       "    <tr>\n",
       "      <th>1519</th>\n",
       "      <td>468</td>\n",
       "      <td>99999 (Plaintext)</td>\n",
       "      <td>265.3 GH/s (15.96ms)</td>\n",
       "      <td>128</td>\n",
       "      <td>1024</td>\n",
       "      <td>GTX4090</td>\n",
       "      <td>256.0</td>\n",
       "      <td>1.0</td>\n",
       "    </tr>\n",
       "  </tbody>\n",
       "</table>\n",
       "<p>1520 rows × 8 columns</p>\n",
       "</div>"
      ],
      "text/plain": [
       "       id                                          hash_mode  \\\n",
       "0       0                                                MD4   \n",
       "1       1                                                MD5   \n",
       "2       2                                           Half MD5   \n",
       "3       3                                               SHA1   \n",
       "4       4                                             SHA256   \n",
       "...   ...                                                ...   \n",
       "1515  464  29600 (Terra Station Wallet (AES256-CBC(PBKDF2...   \n",
       "1516  465  29700 (KeePass 1 (AES/Twofish) and KeePass 2 (...   \n",
       "1517  466  30000 (Python Werkzeug MD5 (HMAC-MD5 (key = $s...   \n",
       "1518  467  30120 (Python Werkzeug SHA256 (HMAC-SHA256 (ke...   \n",
       "1519  468                                  99999 (Plaintext)   \n",
       "\n",
       "                       speed  accel  loops       GPU    thr  vec  \n",
       "0               32948.8 MH/s    256   1024  GTX980ti    NaN  NaN  \n",
       "1               15818.6 MH/s    256   1024  GTX980ti    NaN  NaN  \n",
       "2                7528.8 MH/s    256   1024  GTX980ti    NaN  NaN  \n",
       "3                5172.0 MH/s    256   1024  GTX980ti    NaN  NaN  \n",
       "4                1963.4 MH/s    256   1024  GTX980ti    NaN  NaN  \n",
       "...                      ...    ...    ...       ...    ...  ...  \n",
       "1515  70117.1 kH/s (19.78ms)    256     99   GTX4090   64.0  1.0  \n",
       "1516    133.1 kH/s (67.00ms)     64    256   GTX4090  256.0  1.0  \n",
       "1517  55627.6 MH/s (76.89ms)    128   1024   GTX4090  256.0  1.0  \n",
       "1518   9349.1 MH/s (57.20ms)     32    256   GTX4090  512.0  1.0  \n",
       "1519    265.3 GH/s (15.96ms)    128   1024   GTX4090  256.0  1.0  \n",
       "\n",
       "[1520 rows x 8 columns]"
      ]
     },
     "execution_count": 120,
     "metadata": {},
     "output_type": "execute_result"
    }
   ],
   "source": [
    "data"
   ]
  },
  {
   "cell_type": "code",
   "execution_count": 121,
   "metadata": {},
   "outputs": [
    {
     "data": {
      "text/html": [
       "<div>\n",
       "<style scoped>\n",
       "    .dataframe tbody tr th:only-of-type {\n",
       "        vertical-align: middle;\n",
       "    }\n",
       "\n",
       "    .dataframe tbody tr th {\n",
       "        vertical-align: top;\n",
       "    }\n",
       "\n",
       "    .dataframe thead th {\n",
       "        text-align: right;\n",
       "    }\n",
       "</style>\n",
       "<table border=\"1\" class=\"dataframe\">\n",
       "  <thead>\n",
       "    <tr style=\"text-align: right;\">\n",
       "      <th></th>\n",
       "      <th>id</th>\n",
       "      <th>hash_mode</th>\n",
       "      <th>speed</th>\n",
       "      <th>accel</th>\n",
       "      <th>loops</th>\n",
       "      <th>GPU</th>\n",
       "      <th>thr</th>\n",
       "      <th>vec</th>\n",
       "    </tr>\n",
       "  </thead>\n",
       "  <tbody>\n",
       "    <tr>\n",
       "      <th>24</th>\n",
       "      <td>24</td>\n",
       "      <td>NetNTLMv1-VANILLA / NetNTLMv1+ESS</td>\n",
       "      <td>13585.5 MH/s</td>\n",
       "      <td>256</td>\n",
       "      <td>1024</td>\n",
       "      <td>GTX980ti</td>\n",
       "      <td>NaN</td>\n",
       "      <td>NaN</td>\n",
       "    </tr>\n",
       "    <tr>\n",
       "      <th>25</th>\n",
       "      <td>25</td>\n",
       "      <td>NetNTLMv2</td>\n",
       "      <td>1068.4 MH/s</td>\n",
       "      <td>256</td>\n",
       "      <td>1024</td>\n",
       "      <td>GTX980ti</td>\n",
       "      <td>NaN</td>\n",
       "      <td>NaN</td>\n",
       "    </tr>\n",
       "    <tr>\n",
       "      <th>64</th>\n",
       "      <td>64</td>\n",
       "      <td>NTLM</td>\n",
       "      <td>33066.0 MH/s</td>\n",
       "      <td>256</td>\n",
       "      <td>1024</td>\n",
       "      <td>GTX980ti</td>\n",
       "      <td>NaN</td>\n",
       "      <td>NaN</td>\n",
       "    </tr>\n",
       "    <tr>\n",
       "      <th>149</th>\n",
       "      <td>149</td>\n",
       "      <td>NetNTLMv1-VANILLA / NetNTLMv1+ESS</td>\n",
       "      <td>11592.2 MH/s</td>\n",
       "      <td>256</td>\n",
       "      <td>1024</td>\n",
       "      <td>GTX980ti</td>\n",
       "      <td>NaN</td>\n",
       "      <td>NaN</td>\n",
       "    </tr>\n",
       "    <tr>\n",
       "      <th>150</th>\n",
       "      <td>150</td>\n",
       "      <td>NetNTLMv2</td>\n",
       "      <td>918.2 MH/s</td>\n",
       "      <td>256</td>\n",
       "      <td>1024</td>\n",
       "      <td>GTX980ti</td>\n",
       "      <td>NaN</td>\n",
       "      <td>NaN</td>\n",
       "    </tr>\n",
       "    <tr>\n",
       "      <th>189</th>\n",
       "      <td>189</td>\n",
       "      <td>NTLM</td>\n",
       "      <td>28408.9 MH/s</td>\n",
       "      <td>256</td>\n",
       "      <td>1024</td>\n",
       "      <td>GTX980ti</td>\n",
       "      <td>NaN</td>\n",
       "      <td>NaN</td>\n",
       "    </tr>\n",
       "    <tr>\n",
       "      <th>287</th>\n",
       "      <td>37</td>\n",
       "      <td>1000 - NTLM</td>\n",
       "      <td>58138.5 MH/s (32.04ms)</td>\n",
       "      <td>64</td>\n",
       "      <td>1024</td>\n",
       "      <td>GTX1080ti</td>\n",
       "      <td>1024.0</td>\n",
       "      <td>2.0</td>\n",
       "    </tr>\n",
       "    <tr>\n",
       "      <th>346</th>\n",
       "      <td>96</td>\n",
       "      <td>5500 - NetNTLMv1 / NetNTLMv1+ESS</td>\n",
       "      <td>28256.0 MH/s (61.71ms)</td>\n",
       "      <td>64</td>\n",
       "      <td>1024</td>\n",
       "      <td>GTX1080ti</td>\n",
       "      <td>1024.0</td>\n",
       "      <td>1.0</td>\n",
       "    </tr>\n",
       "    <tr>\n",
       "      <th>347</th>\n",
       "      <td>97</td>\n",
       "      <td>5600 - NetNTLMv2</td>\n",
       "      <td>2445.1 MH/s (47.68ms)</td>\n",
       "      <td>64</td>\n",
       "      <td>64</td>\n",
       "      <td>GTX1080ti</td>\n",
       "      <td>1024.0</td>\n",
       "      <td>1.0</td>\n",
       "    </tr>\n",
       "    <tr>\n",
       "      <th>524</th>\n",
       "      <td>37</td>\n",
       "      <td>1000 - NTLM</td>\n",
       "      <td>73602.4 MH/s (30.49ms)</td>\n",
       "      <td>128</td>\n",
       "      <td>1024</td>\n",
       "      <td>GTX2080ti</td>\n",
       "      <td>256.0</td>\n",
       "      <td>2.0</td>\n",
       "    </tr>\n",
       "    <tr>\n",
       "      <th>582</th>\n",
       "      <td>95</td>\n",
       "      <td>5500 - NetNTLMv1 / NetNTLMv1+ESS</td>\n",
       "      <td>40620.9 MH/s (55.64ms)</td>\n",
       "      <td>128</td>\n",
       "      <td>1024</td>\n",
       "      <td>GTX2080ti</td>\n",
       "      <td>256.0</td>\n",
       "      <td>1.0</td>\n",
       "    </tr>\n",
       "    <tr>\n",
       "      <th>583</th>\n",
       "      <td>96</td>\n",
       "      <td>5600 - NetNTLMv2</td>\n",
       "      <td>3593.6 MH/s (316.44ms)</td>\n",
       "      <td>128</td>\n",
       "      <td>512</td>\n",
       "      <td>GTX2080ti</td>\n",
       "      <td>256.0</td>\n",
       "      <td>1.0</td>\n",
       "    </tr>\n",
       "    <tr>\n",
       "      <th>754</th>\n",
       "      <td>37</td>\n",
       "      <td>1000 - NTLM</td>\n",
       "      <td>121.2 GH/s (22.55ms)</td>\n",
       "      <td>32</td>\n",
       "      <td>1024</td>\n",
       "      <td>GTX3090</td>\n",
       "      <td>1024.0</td>\n",
       "      <td>1.0</td>\n",
       "    </tr>\n",
       "    <tr>\n",
       "      <th>815</th>\n",
       "      <td>98</td>\n",
       "      <td>5500 - NetNTLMv1 / NetNTLMv1+ESS</td>\n",
       "      <td>68311.9 MH/s (40.07ms)</td>\n",
       "      <td>32</td>\n",
       "      <td>1024</td>\n",
       "      <td>GTX3090</td>\n",
       "      <td>1024.0</td>\n",
       "      <td>1.0</td>\n",
       "    </tr>\n",
       "    <tr>\n",
       "      <th>816</th>\n",
       "      <td>99</td>\n",
       "      <td>5600 - NetNTLMv2</td>\n",
       "      <td>5032.0 MH/s (68.05ms)</td>\n",
       "      <td>4</td>\n",
       "      <td>1024</td>\n",
       "      <td>GTX3090</td>\n",
       "      <td>1024.0</td>\n",
       "      <td>1.0</td>\n",
       "    </tr>\n",
       "    <tr>\n",
       "      <th>1093</th>\n",
       "      <td>42</td>\n",
       "      <td>1000 (NTLM)</td>\n",
       "      <td>288.5 GH/s (7.24ms)</td>\n",
       "      <td>512</td>\n",
       "      <td>1024</td>\n",
       "      <td>GTX4090</td>\n",
       "      <td>32.0</td>\n",
       "      <td>8.0</td>\n",
       "    </tr>\n",
       "    <tr>\n",
       "      <th>1158</th>\n",
       "      <td>107</td>\n",
       "      <td>5500 (NetNTLMv1 / NetNTLMv1+ESS)</td>\n",
       "      <td>160.1 GH/s (26.56ms)</td>\n",
       "      <td>1024</td>\n",
       "      <td>1024</td>\n",
       "      <td>GTX4090</td>\n",
       "      <td>32.0</td>\n",
       "      <td>2.0</td>\n",
       "    </tr>\n",
       "    <tr>\n",
       "      <th>1159</th>\n",
       "      <td>108</td>\n",
       "      <td>5600 (NetNTLMv2)</td>\n",
       "      <td>11764.8 MH/s (45.44ms)</td>\n",
       "      <td>64</td>\n",
       "      <td>256</td>\n",
       "      <td>GTX4090</td>\n",
       "      <td>256.0</td>\n",
       "      <td>1.0</td>\n",
       "    </tr>\n",
       "    <tr>\n",
       "      <th>1439</th>\n",
       "      <td>388</td>\n",
       "      <td>27000 (NetNTLMv1 / NetNTLMv1+ESS (NT)) [Iterat...</td>\n",
       "      <td>318.0 MH/s (0.00ms)</td>\n",
       "      <td>64</td>\n",
       "      <td>1024</td>\n",
       "      <td>GTX4090</td>\n",
       "      <td>512.0</td>\n",
       "      <td>1.0</td>\n",
       "    </tr>\n",
       "    <tr>\n",
       "      <th>1440</th>\n",
       "      <td>389</td>\n",
       "      <td>27100 (NetNTLMv2 (NT)) [Iterations: 0]</td>\n",
       "      <td>310.9 MH/s (0.00ms)</td>\n",
       "      <td>64</td>\n",
       "      <td>1024</td>\n",
       "      <td>GTX4090</td>\n",
       "      <td>512.0</td>\n",
       "      <td>1.0</td>\n",
       "    </tr>\n",
       "  </tbody>\n",
       "</table>\n",
       "</div>"
      ],
      "text/plain": [
       "       id                                          hash_mode  \\\n",
       "24     24                  NetNTLMv1-VANILLA / NetNTLMv1+ESS   \n",
       "25     25                                          NetNTLMv2   \n",
       "64     64                                               NTLM   \n",
       "149   149                  NetNTLMv1-VANILLA / NetNTLMv1+ESS   \n",
       "150   150                                          NetNTLMv2   \n",
       "189   189                                               NTLM   \n",
       "287    37                                        1000 - NTLM   \n",
       "346    96                   5500 - NetNTLMv1 / NetNTLMv1+ESS   \n",
       "347    97                                   5600 - NetNTLMv2   \n",
       "524    37                                        1000 - NTLM   \n",
       "582    95                   5500 - NetNTLMv1 / NetNTLMv1+ESS   \n",
       "583    96                                   5600 - NetNTLMv2   \n",
       "754    37                                        1000 - NTLM   \n",
       "815    98                   5500 - NetNTLMv1 / NetNTLMv1+ESS   \n",
       "816    99                                   5600 - NetNTLMv2   \n",
       "1093   42                                        1000 (NTLM)   \n",
       "1158  107                   5500 (NetNTLMv1 / NetNTLMv1+ESS)   \n",
       "1159  108                                   5600 (NetNTLMv2)   \n",
       "1439  388  27000 (NetNTLMv1 / NetNTLMv1+ESS (NT)) [Iterat...   \n",
       "1440  389             27100 (NetNTLMv2 (NT)) [Iterations: 0]   \n",
       "\n",
       "                       speed  accel  loops        GPU     thr  vec  \n",
       "24              13585.5 MH/s    256   1024   GTX980ti     NaN  NaN  \n",
       "25               1068.4 MH/s    256   1024   GTX980ti     NaN  NaN  \n",
       "64              33066.0 MH/s    256   1024   GTX980ti     NaN  NaN  \n",
       "149             11592.2 MH/s    256   1024   GTX980ti     NaN  NaN  \n",
       "150               918.2 MH/s    256   1024   GTX980ti     NaN  NaN  \n",
       "189             28408.9 MH/s    256   1024   GTX980ti     NaN  NaN  \n",
       "287   58138.5 MH/s (32.04ms)     64   1024  GTX1080ti  1024.0  2.0  \n",
       "346   28256.0 MH/s (61.71ms)     64   1024  GTX1080ti  1024.0  1.0  \n",
       "347    2445.1 MH/s (47.68ms)     64     64  GTX1080ti  1024.0  1.0  \n",
       "524   73602.4 MH/s (30.49ms)    128   1024  GTX2080ti   256.0  2.0  \n",
       "582   40620.9 MH/s (55.64ms)    128   1024  GTX2080ti   256.0  1.0  \n",
       "583   3593.6 MH/s (316.44ms)    128    512  GTX2080ti   256.0  1.0  \n",
       "754     121.2 GH/s (22.55ms)     32   1024    GTX3090  1024.0  1.0  \n",
       "815   68311.9 MH/s (40.07ms)     32   1024    GTX3090  1024.0  1.0  \n",
       "816    5032.0 MH/s (68.05ms)      4   1024    GTX3090  1024.0  1.0  \n",
       "1093     288.5 GH/s (7.24ms)    512   1024    GTX4090    32.0  8.0  \n",
       "1158    160.1 GH/s (26.56ms)   1024   1024    GTX4090    32.0  2.0  \n",
       "1159  11764.8 MH/s (45.44ms)     64    256    GTX4090   256.0  1.0  \n",
       "1439     318.0 MH/s (0.00ms)     64   1024    GTX4090   512.0  1.0  \n",
       "1440     310.9 MH/s (0.00ms)     64   1024    GTX4090   512.0  1.0  "
      ]
     },
     "execution_count": 121,
     "metadata": {},
     "output_type": "execute_result"
    }
   ],
   "source": [
    "data[data[\"hash_mode\"].str.contains(\"NTLM\")]"
   ]
  },
  {
   "cell_type": "code",
   "execution_count": 122,
   "metadata": {},
   "outputs": [
    {
     "data": {
      "text/html": [
       "<div>\n",
       "<style scoped>\n",
       "    .dataframe tbody tr th:only-of-type {\n",
       "        vertical-align: middle;\n",
       "    }\n",
       "\n",
       "    .dataframe tbody tr th {\n",
       "        vertical-align: top;\n",
       "    }\n",
       "\n",
       "    .dataframe thead th {\n",
       "        text-align: right;\n",
       "    }\n",
       "</style>\n",
       "<table border=\"1\" class=\"dataframe\">\n",
       "  <thead>\n",
       "    <tr style=\"text-align: right;\">\n",
       "      <th></th>\n",
       "      <th>id</th>\n",
       "      <th>hash_mode</th>\n",
       "      <th>speed</th>\n",
       "      <th>accel</th>\n",
       "      <th>loops</th>\n",
       "      <th>GPU</th>\n",
       "      <th>thr</th>\n",
       "      <th>vec</th>\n",
       "    </tr>\n",
       "  </thead>\n",
       "  <tbody>\n",
       "    <tr>\n",
       "      <th>3</th>\n",
       "      <td>3</td>\n",
       "      <td>SHA1</td>\n",
       "      <td>5172.0 MH/s</td>\n",
       "      <td>256</td>\n",
       "      <td>1024</td>\n",
       "      <td>GTX980ti</td>\n",
       "      <td>NaN</td>\n",
       "      <td>NaN</td>\n",
       "    </tr>\n",
       "    <tr>\n",
       "      <th>17</th>\n",
       "      <td>17</td>\n",
       "      <td>PBKDF2-HMAC-SHA1</td>\n",
       "      <td>2153.4 kH/s</td>\n",
       "      <td>8</td>\n",
       "      <td>1000</td>\n",
       "      <td>GTX980ti</td>\n",
       "      <td>NaN</td>\n",
       "      <td>NaN</td>\n",
       "    </tr>\n",
       "    <tr>\n",
       "      <th>23</th>\n",
       "      <td>23</td>\n",
       "      <td>IKE-PSK SHA1</td>\n",
       "      <td>383.4 MH/s</td>\n",
       "      <td>128</td>\n",
       "      <td>512</td>\n",
       "      <td>GTX980ti</td>\n",
       "      <td>NaN</td>\n",
       "      <td>NaN</td>\n",
       "    </tr>\n",
       "    <tr>\n",
       "      <th>26</th>\n",
       "      <td>26</td>\n",
       "      <td>IPMI2 RAKP HMAC-SHA1</td>\n",
       "      <td>1110.4 MH/s</td>\n",
       "      <td>256</td>\n",
       "      <td>256</td>\n",
       "      <td>GTX980ti</td>\n",
       "      <td>NaN</td>\n",
       "      <td>NaN</td>\n",
       "    </tr>\n",
       "    <tr>\n",
       "      <th>30</th>\n",
       "      <td>30</td>\n",
       "      <td>MySQL Challenge-Response Authentication (SHA1)</td>\n",
       "      <td>1529.0 MH/s</td>\n",
       "      <td>256</td>\n",
       "      <td>1024</td>\n",
       "      <td>GTX980ti</td>\n",
       "      <td>NaN</td>\n",
       "      <td>NaN</td>\n",
       "    </tr>\n",
       "    <tr>\n",
       "      <th>...</th>\n",
       "      <td>...</td>\n",
       "      <td>...</td>\n",
       "      <td>...</td>\n",
       "      <td>...</td>\n",
       "      <td>...</td>\n",
       "      <td>...</td>\n",
       "      <td>...</td>\n",
       "      <td>...</td>\n",
       "    </tr>\n",
       "    <tr>\n",
       "      <th>1410</th>\n",
       "      <td>359</td>\n",
       "      <td>24410 (PKCS#8 Private Keys (PBKDF2-HMAC-SHA1 +...</td>\n",
       "      <td>5034.5 kH/s (50.33ms)</td>\n",
       "      <td>32</td>\n",
       "      <td>512</td>\n",
       "      <td>GTX4090</td>\n",
       "      <td>256.0</td>\n",
       "      <td>1.0</td>\n",
       "    </tr>\n",
       "    <tr>\n",
       "      <th>1415</th>\n",
       "      <td>364</td>\n",
       "      <td>24800 (Umbraco HMAC-SHA1)</td>\n",
       "      <td>10784.6 MH/s (49.60ms)</td>\n",
       "      <td>32</td>\n",
       "      <td>512</td>\n",
       "      <td>GTX4090</td>\n",
       "      <td>256.0</td>\n",
       "      <td>1.0</td>\n",
       "    </tr>\n",
       "    <tr>\n",
       "      <th>1417</th>\n",
       "      <td>366</td>\n",
       "      <td>25000 (SNMPv3 HMAC-MD5-96/HMAC-SHA1-96) [Itera...</td>\n",
       "      <td>1323.5 kH/s (22.08ms)</td>\n",
       "      <td>8</td>\n",
       "      <td>131072</td>\n",
       "      <td>GTX4090</td>\n",
       "      <td>256.0</td>\n",
       "      <td>1.0</td>\n",
       "    </tr>\n",
       "    <tr>\n",
       "      <th>1419</th>\n",
       "      <td>368</td>\n",
       "      <td>25200 (SNMPv3 HMAC-SHA1-96) [Iterations: 1048576]</td>\n",
       "      <td>1998.2 kH/s (29.58ms)</td>\n",
       "      <td>64</td>\n",
       "      <td>131072</td>\n",
       "      <td>GTX4090</td>\n",
       "      <td>64.0</td>\n",
       "      <td>1.0</td>\n",
       "    </tr>\n",
       "    <tr>\n",
       "      <th>1443</th>\n",
       "      <td>392</td>\n",
       "      <td>27400 (VMware VMX (PBKDF2-HMAC-SHA1 + AES-256-...</td>\n",
       "      <td>1059.9 kH/s (48.90ms)</td>\n",
       "      <td>8</td>\n",
       "      <td>1024</td>\n",
       "      <td>GTX4090</td>\n",
       "      <td>512.0</td>\n",
       "      <td>1.0</td>\n",
       "    </tr>\n",
       "  </tbody>\n",
       "</table>\n",
       "<p>79 rows × 8 columns</p>\n",
       "</div>"
      ],
      "text/plain": [
       "       id                                          hash_mode  \\\n",
       "3       3                                               SHA1   \n",
       "17     17                                   PBKDF2-HMAC-SHA1   \n",
       "23     23                                       IKE-PSK SHA1   \n",
       "26     26                               IPMI2 RAKP HMAC-SHA1   \n",
       "30     30     MySQL Challenge-Response Authentication (SHA1)   \n",
       "...   ...                                                ...   \n",
       "1410  359  24410 (PKCS#8 Private Keys (PBKDF2-HMAC-SHA1 +...   \n",
       "1415  364                          24800 (Umbraco HMAC-SHA1)   \n",
       "1417  366  25000 (SNMPv3 HMAC-MD5-96/HMAC-SHA1-96) [Itera...   \n",
       "1419  368  25200 (SNMPv3 HMAC-SHA1-96) [Iterations: 1048576]   \n",
       "1443  392  27400 (VMware VMX (PBKDF2-HMAC-SHA1 + AES-256-...   \n",
       "\n",
       "                       speed  accel   loops       GPU    thr  vec  \n",
       "3                5172.0 MH/s    256    1024  GTX980ti    NaN  NaN  \n",
       "17               2153.4 kH/s      8    1000  GTX980ti    NaN  NaN  \n",
       "23                383.4 MH/s    128     512  GTX980ti    NaN  NaN  \n",
       "26               1110.4 MH/s    256     256  GTX980ti    NaN  NaN  \n",
       "30               1529.0 MH/s    256    1024  GTX980ti    NaN  NaN  \n",
       "...                      ...    ...     ...       ...    ...  ...  \n",
       "1410   5034.5 kH/s (50.33ms)     32     512   GTX4090  256.0  1.0  \n",
       "1415  10784.6 MH/s (49.60ms)     32     512   GTX4090  256.0  1.0  \n",
       "1417   1323.5 kH/s (22.08ms)      8  131072   GTX4090  256.0  1.0  \n",
       "1419   1998.2 kH/s (29.58ms)     64  131072   GTX4090   64.0  1.0  \n",
       "1443   1059.9 kH/s (48.90ms)      8    1024   GTX4090  512.0  1.0  \n",
       "\n",
       "[79 rows x 8 columns]"
      ]
     },
     "execution_count": 122,
     "metadata": {},
     "output_type": "execute_result"
    }
   ],
   "source": [
    "#pd.set_option('display.max_rows', 500)\n",
    "data[data[\"hash_mode\"].str.contains(\"SHA1\")]"
   ]
  },
  {
   "cell_type": "code",
   "execution_count": 123,
   "metadata": {},
   "outputs": [],
   "source": [
    "gpu = ['GTX980ti (2015)', 'GTX1080ti (2017)', 'RTX2080ti (2018)', 'RTX3090 (2020)', 'RTX4090 (2022)']\n",
    "scores = [6707,  12920,  20577,  955900,  2699700]\n",
    "zip_df = pd.DataFrame(list(zip(gpu, scores)), columns = ['GPU', 'speed (H/s)'])\n",
    "zip_df[\"hash_mode\"] = \"7-Zip\"\n",
    "\n",
    "scores = [13944,  20945,  26544,  96662,  184000]\n",
    "bcrypt_df = pd.DataFrame(list(zip(gpu, scores)), columns = ['GPU', 'speed (H/s)'])\n",
    "bcrypt_df[\"hash_mode\"] = \"bcrypt\"\n",
    "\n",
    "scores = [33066000000,  58138500000,  73602400000,  121200000000,  288500000000]\n",
    "third_df = pd.DataFrame(list(zip(gpu, scores)), columns = ['GPU', 'speed (H/s)'])\n",
    "third_df[\"hash_mode\"] = \"NTLM\"\n",
    "\n",
    "scores = [4404800000, 114781000000, 159246000000, 227576000000, 506387000000]\n",
    "fourth_df = pd.DataFrame(list(zip(gpu, scores)), columns = ['GPU', 'speed (H/s)'])\n",
    "fourth_df[\"hash_mode\"] = \"SHA-1\"\n",
    "\n",
    "data_vergleich = pd.concat([zip_df, bcrypt_df, third_df, fourth_df], ignore_index=True)"
   ]
  },
  {
   "cell_type": "code",
   "execution_count": 124,
   "metadata": {},
   "outputs": [
    {
     "data": {
      "text/html": [
       "<div>\n",
       "<style scoped>\n",
       "    .dataframe tbody tr th:only-of-type {\n",
       "        vertical-align: middle;\n",
       "    }\n",
       "\n",
       "    .dataframe tbody tr th {\n",
       "        vertical-align: top;\n",
       "    }\n",
       "\n",
       "    .dataframe thead th {\n",
       "        text-align: right;\n",
       "    }\n",
       "</style>\n",
       "<table border=\"1\" class=\"dataframe\">\n",
       "  <thead>\n",
       "    <tr style=\"text-align: right;\">\n",
       "      <th></th>\n",
       "      <th>GPU</th>\n",
       "      <th>speed (H/s)</th>\n",
       "      <th>hash_mode</th>\n",
       "    </tr>\n",
       "  </thead>\n",
       "  <tbody>\n",
       "    <tr>\n",
       "      <th>0</th>\n",
       "      <td>GTX980ti (2015)</td>\n",
       "      <td>6707</td>\n",
       "      <td>7-Zip</td>\n",
       "    </tr>\n",
       "    <tr>\n",
       "      <th>1</th>\n",
       "      <td>GTX1080ti (2017)</td>\n",
       "      <td>12920</td>\n",
       "      <td>7-Zip</td>\n",
       "    </tr>\n",
       "    <tr>\n",
       "      <th>2</th>\n",
       "      <td>RTX2080ti (2018)</td>\n",
       "      <td>20577</td>\n",
       "      <td>7-Zip</td>\n",
       "    </tr>\n",
       "    <tr>\n",
       "      <th>3</th>\n",
       "      <td>RTX3090 (2020)</td>\n",
       "      <td>955900</td>\n",
       "      <td>7-Zip</td>\n",
       "    </tr>\n",
       "    <tr>\n",
       "      <th>4</th>\n",
       "      <td>RTX4090 (2022)</td>\n",
       "      <td>2699700</td>\n",
       "      <td>7-Zip</td>\n",
       "    </tr>\n",
       "    <tr>\n",
       "      <th>5</th>\n",
       "      <td>GTX980ti (2015)</td>\n",
       "      <td>13944</td>\n",
       "      <td>bcrypt</td>\n",
       "    </tr>\n",
       "    <tr>\n",
       "      <th>6</th>\n",
       "      <td>GTX1080ti (2017)</td>\n",
       "      <td>20945</td>\n",
       "      <td>bcrypt</td>\n",
       "    </tr>\n",
       "    <tr>\n",
       "      <th>7</th>\n",
       "      <td>RTX2080ti (2018)</td>\n",
       "      <td>26544</td>\n",
       "      <td>bcrypt</td>\n",
       "    </tr>\n",
       "    <tr>\n",
       "      <th>8</th>\n",
       "      <td>RTX3090 (2020)</td>\n",
       "      <td>96662</td>\n",
       "      <td>bcrypt</td>\n",
       "    </tr>\n",
       "    <tr>\n",
       "      <th>9</th>\n",
       "      <td>RTX4090 (2022)</td>\n",
       "      <td>184000</td>\n",
       "      <td>bcrypt</td>\n",
       "    </tr>\n",
       "    <tr>\n",
       "      <th>10</th>\n",
       "      <td>GTX980ti (2015)</td>\n",
       "      <td>33066000000</td>\n",
       "      <td>NTLM</td>\n",
       "    </tr>\n",
       "    <tr>\n",
       "      <th>11</th>\n",
       "      <td>GTX1080ti (2017)</td>\n",
       "      <td>58138500000</td>\n",
       "      <td>NTLM</td>\n",
       "    </tr>\n",
       "    <tr>\n",
       "      <th>12</th>\n",
       "      <td>RTX2080ti (2018)</td>\n",
       "      <td>73602400000</td>\n",
       "      <td>NTLM</td>\n",
       "    </tr>\n",
       "    <tr>\n",
       "      <th>13</th>\n",
       "      <td>RTX3090 (2020)</td>\n",
       "      <td>121200000000</td>\n",
       "      <td>NTLM</td>\n",
       "    </tr>\n",
       "    <tr>\n",
       "      <th>14</th>\n",
       "      <td>RTX4090 (2022)</td>\n",
       "      <td>288500000000</td>\n",
       "      <td>NTLM</td>\n",
       "    </tr>\n",
       "    <tr>\n",
       "      <th>15</th>\n",
       "      <td>GTX980ti (2015)</td>\n",
       "      <td>4404800000</td>\n",
       "      <td>SHA-1</td>\n",
       "    </tr>\n",
       "    <tr>\n",
       "      <th>16</th>\n",
       "      <td>GTX1080ti (2017)</td>\n",
       "      <td>114781000000</td>\n",
       "      <td>SHA-1</td>\n",
       "    </tr>\n",
       "    <tr>\n",
       "      <th>17</th>\n",
       "      <td>RTX2080ti (2018)</td>\n",
       "      <td>159246000000</td>\n",
       "      <td>SHA-1</td>\n",
       "    </tr>\n",
       "    <tr>\n",
       "      <th>18</th>\n",
       "      <td>RTX3090 (2020)</td>\n",
       "      <td>227576000000</td>\n",
       "      <td>SHA-1</td>\n",
       "    </tr>\n",
       "    <tr>\n",
       "      <th>19</th>\n",
       "      <td>RTX4090 (2022)</td>\n",
       "      <td>506387000000</td>\n",
       "      <td>SHA-1</td>\n",
       "    </tr>\n",
       "  </tbody>\n",
       "</table>\n",
       "</div>"
      ],
      "text/plain": [
       "                 GPU   speed (H/s) hash_mode\n",
       "0    GTX980ti (2015)          6707     7-Zip\n",
       "1   GTX1080ti (2017)         12920     7-Zip\n",
       "2   RTX2080ti (2018)         20577     7-Zip\n",
       "3     RTX3090 (2020)        955900     7-Zip\n",
       "4     RTX4090 (2022)       2699700     7-Zip\n",
       "5    GTX980ti (2015)         13944    bcrypt\n",
       "6   GTX1080ti (2017)         20945    bcrypt\n",
       "7   RTX2080ti (2018)         26544    bcrypt\n",
       "8     RTX3090 (2020)         96662    bcrypt\n",
       "9     RTX4090 (2022)        184000    bcrypt\n",
       "10   GTX980ti (2015)   33066000000      NTLM\n",
       "11  GTX1080ti (2017)   58138500000      NTLM\n",
       "12  RTX2080ti (2018)   73602400000      NTLM\n",
       "13    RTX3090 (2020)  121200000000      NTLM\n",
       "14    RTX4090 (2022)  288500000000      NTLM\n",
       "15   GTX980ti (2015)    4404800000     SHA-1\n",
       "16  GTX1080ti (2017)  114781000000     SHA-1\n",
       "17  RTX2080ti (2018)  159246000000     SHA-1\n",
       "18    RTX3090 (2020)  227576000000     SHA-1\n",
       "19    RTX4090 (2022)  506387000000     SHA-1"
      ]
     },
     "execution_count": 124,
     "metadata": {},
     "output_type": "execute_result"
    }
   ],
   "source": [
    "data_vergleich"
   ]
  },
  {
   "cell_type": "code",
   "execution_count": 125,
   "metadata": {},
   "outputs": [],
   "source": [
    "data_vergleich_test = data_vergleich[(data_vergleich[\"GPU\"]==\"RTX4090 (2022)\")]"
   ]
  },
  {
   "cell_type": "code",
   "execution_count": 126,
   "metadata": {},
   "outputs": [
    {
     "data": {
      "text/html": [
       "<div>\n",
       "<style scoped>\n",
       "    .dataframe tbody tr th:only-of-type {\n",
       "        vertical-align: middle;\n",
       "    }\n",
       "\n",
       "    .dataframe tbody tr th {\n",
       "        vertical-align: top;\n",
       "    }\n",
       "\n",
       "    .dataframe thead th {\n",
       "        text-align: right;\n",
       "    }\n",
       "</style>\n",
       "<table border=\"1\" class=\"dataframe\">\n",
       "  <thead>\n",
       "    <tr style=\"text-align: right;\">\n",
       "      <th></th>\n",
       "      <th>GPU</th>\n",
       "      <th>speed (H/s)</th>\n",
       "      <th>hash_mode</th>\n",
       "    </tr>\n",
       "  </thead>\n",
       "  <tbody>\n",
       "    <tr>\n",
       "      <th>4</th>\n",
       "      <td>RTX4090 (2022)</td>\n",
       "      <td>2699700</td>\n",
       "      <td>7-Zip</td>\n",
       "    </tr>\n",
       "    <tr>\n",
       "      <th>9</th>\n",
       "      <td>RTX4090 (2022)</td>\n",
       "      <td>184000</td>\n",
       "      <td>bcrypt</td>\n",
       "    </tr>\n",
       "    <tr>\n",
       "      <th>14</th>\n",
       "      <td>RTX4090 (2022)</td>\n",
       "      <td>288500000000</td>\n",
       "      <td>NTLM</td>\n",
       "    </tr>\n",
       "    <tr>\n",
       "      <th>19</th>\n",
       "      <td>RTX4090 (2022)</td>\n",
       "      <td>506387000000</td>\n",
       "      <td>SHA-1</td>\n",
       "    </tr>\n",
       "  </tbody>\n",
       "</table>\n",
       "</div>"
      ],
      "text/plain": [
       "               GPU   speed (H/s) hash_mode\n",
       "4   RTX4090 (2022)       2699700     7-Zip\n",
       "9   RTX4090 (2022)        184000    bcrypt\n",
       "14  RTX4090 (2022)  288500000000      NTLM\n",
       "19  RTX4090 (2022)  506387000000     SHA-1"
      ]
     },
     "execution_count": 126,
     "metadata": {},
     "output_type": "execute_result"
    }
   ],
   "source": [
    "data_vergleich_test"
   ]
  },
  {
   "cell_type": "code",
   "execution_count": 127,
   "metadata": {},
   "outputs": [],
   "source": [
    "data_zip = data[data[\"hash_mode\"].str.contains(\"7-Zip\")][[\"hash_mode\",\"speed\",\"GPU\"]]"
   ]
  },
  {
   "cell_type": "code",
   "execution_count": 128,
   "metadata": {},
   "outputs": [
    {
     "data": {
      "text/html": [
       "<div>\n",
       "<style scoped>\n",
       "    .dataframe tbody tr th:only-of-type {\n",
       "        vertical-align: middle;\n",
       "    }\n",
       "\n",
       "    .dataframe tbody tr th {\n",
       "        vertical-align: top;\n",
       "    }\n",
       "\n",
       "    .dataframe thead th {\n",
       "        text-align: right;\n",
       "    }\n",
       "</style>\n",
       "<table border=\"1\" class=\"dataframe\">\n",
       "  <thead>\n",
       "    <tr style=\"text-align: right;\">\n",
       "      <th></th>\n",
       "      <th>id</th>\n",
       "      <th>hash_mode</th>\n",
       "      <th>speed</th>\n",
       "      <th>accel</th>\n",
       "      <th>loops</th>\n",
       "      <th>GPU</th>\n",
       "      <th>thr</th>\n",
       "      <th>vec</th>\n",
       "    </tr>\n",
       "  </thead>\n",
       "  <tbody>\n",
       "    <tr>\n",
       "      <th>24</th>\n",
       "      <td>24</td>\n",
       "      <td>NetNTLMv1-VANILLA / NetNTLMv1+ESS</td>\n",
       "      <td>13585.5 MH/s</td>\n",
       "      <td>256</td>\n",
       "      <td>1024</td>\n",
       "      <td>GTX980ti</td>\n",
       "      <td>NaN</td>\n",
       "      <td>NaN</td>\n",
       "    </tr>\n",
       "    <tr>\n",
       "      <th>25</th>\n",
       "      <td>25</td>\n",
       "      <td>NetNTLMv2</td>\n",
       "      <td>1068.4 MH/s</td>\n",
       "      <td>256</td>\n",
       "      <td>1024</td>\n",
       "      <td>GTX980ti</td>\n",
       "      <td>NaN</td>\n",
       "      <td>NaN</td>\n",
       "    </tr>\n",
       "    <tr>\n",
       "      <th>64</th>\n",
       "      <td>64</td>\n",
       "      <td>NTLM</td>\n",
       "      <td>33066.0 MH/s</td>\n",
       "      <td>256</td>\n",
       "      <td>1024</td>\n",
       "      <td>GTX980ti</td>\n",
       "      <td>NaN</td>\n",
       "      <td>NaN</td>\n",
       "    </tr>\n",
       "    <tr>\n",
       "      <th>149</th>\n",
       "      <td>149</td>\n",
       "      <td>NetNTLMv1-VANILLA / NetNTLMv1+ESS</td>\n",
       "      <td>11592.2 MH/s</td>\n",
       "      <td>256</td>\n",
       "      <td>1024</td>\n",
       "      <td>GTX980ti</td>\n",
       "      <td>NaN</td>\n",
       "      <td>NaN</td>\n",
       "    </tr>\n",
       "    <tr>\n",
       "      <th>150</th>\n",
       "      <td>150</td>\n",
       "      <td>NetNTLMv2</td>\n",
       "      <td>918.2 MH/s</td>\n",
       "      <td>256</td>\n",
       "      <td>1024</td>\n",
       "      <td>GTX980ti</td>\n",
       "      <td>NaN</td>\n",
       "      <td>NaN</td>\n",
       "    </tr>\n",
       "    <tr>\n",
       "      <th>189</th>\n",
       "      <td>189</td>\n",
       "      <td>NTLM</td>\n",
       "      <td>28408.9 MH/s</td>\n",
       "      <td>256</td>\n",
       "      <td>1024</td>\n",
       "      <td>GTX980ti</td>\n",
       "      <td>NaN</td>\n",
       "      <td>NaN</td>\n",
       "    </tr>\n",
       "    <tr>\n",
       "      <th>287</th>\n",
       "      <td>37</td>\n",
       "      <td>1000 - NTLM</td>\n",
       "      <td>58138.5 MH/s (32.04ms)</td>\n",
       "      <td>64</td>\n",
       "      <td>1024</td>\n",
       "      <td>GTX1080ti</td>\n",
       "      <td>1024.0</td>\n",
       "      <td>2.0</td>\n",
       "    </tr>\n",
       "    <tr>\n",
       "      <th>346</th>\n",
       "      <td>96</td>\n",
       "      <td>5500 - NetNTLMv1 / NetNTLMv1+ESS</td>\n",
       "      <td>28256.0 MH/s (61.71ms)</td>\n",
       "      <td>64</td>\n",
       "      <td>1024</td>\n",
       "      <td>GTX1080ti</td>\n",
       "      <td>1024.0</td>\n",
       "      <td>1.0</td>\n",
       "    </tr>\n",
       "    <tr>\n",
       "      <th>347</th>\n",
       "      <td>97</td>\n",
       "      <td>5600 - NetNTLMv2</td>\n",
       "      <td>2445.1 MH/s (47.68ms)</td>\n",
       "      <td>64</td>\n",
       "      <td>64</td>\n",
       "      <td>GTX1080ti</td>\n",
       "      <td>1024.0</td>\n",
       "      <td>1.0</td>\n",
       "    </tr>\n",
       "    <tr>\n",
       "      <th>524</th>\n",
       "      <td>37</td>\n",
       "      <td>1000 - NTLM</td>\n",
       "      <td>73602.4 MH/s (30.49ms)</td>\n",
       "      <td>128</td>\n",
       "      <td>1024</td>\n",
       "      <td>GTX2080ti</td>\n",
       "      <td>256.0</td>\n",
       "      <td>2.0</td>\n",
       "    </tr>\n",
       "    <tr>\n",
       "      <th>582</th>\n",
       "      <td>95</td>\n",
       "      <td>5500 - NetNTLMv1 / NetNTLMv1+ESS</td>\n",
       "      <td>40620.9 MH/s (55.64ms)</td>\n",
       "      <td>128</td>\n",
       "      <td>1024</td>\n",
       "      <td>GTX2080ti</td>\n",
       "      <td>256.0</td>\n",
       "      <td>1.0</td>\n",
       "    </tr>\n",
       "    <tr>\n",
       "      <th>583</th>\n",
       "      <td>96</td>\n",
       "      <td>5600 - NetNTLMv2</td>\n",
       "      <td>3593.6 MH/s (316.44ms)</td>\n",
       "      <td>128</td>\n",
       "      <td>512</td>\n",
       "      <td>GTX2080ti</td>\n",
       "      <td>256.0</td>\n",
       "      <td>1.0</td>\n",
       "    </tr>\n",
       "    <tr>\n",
       "      <th>754</th>\n",
       "      <td>37</td>\n",
       "      <td>1000 - NTLM</td>\n",
       "      <td>121.2 GH/s (22.55ms)</td>\n",
       "      <td>32</td>\n",
       "      <td>1024</td>\n",
       "      <td>GTX3090</td>\n",
       "      <td>1024.0</td>\n",
       "      <td>1.0</td>\n",
       "    </tr>\n",
       "    <tr>\n",
       "      <th>815</th>\n",
       "      <td>98</td>\n",
       "      <td>5500 - NetNTLMv1 / NetNTLMv1+ESS</td>\n",
       "      <td>68311.9 MH/s (40.07ms)</td>\n",
       "      <td>32</td>\n",
       "      <td>1024</td>\n",
       "      <td>GTX3090</td>\n",
       "      <td>1024.0</td>\n",
       "      <td>1.0</td>\n",
       "    </tr>\n",
       "    <tr>\n",
       "      <th>816</th>\n",
       "      <td>99</td>\n",
       "      <td>5600 - NetNTLMv2</td>\n",
       "      <td>5032.0 MH/s (68.05ms)</td>\n",
       "      <td>4</td>\n",
       "      <td>1024</td>\n",
       "      <td>GTX3090</td>\n",
       "      <td>1024.0</td>\n",
       "      <td>1.0</td>\n",
       "    </tr>\n",
       "    <tr>\n",
       "      <th>1093</th>\n",
       "      <td>42</td>\n",
       "      <td>1000 (NTLM)</td>\n",
       "      <td>288.5 GH/s (7.24ms)</td>\n",
       "      <td>512</td>\n",
       "      <td>1024</td>\n",
       "      <td>GTX4090</td>\n",
       "      <td>32.0</td>\n",
       "      <td>8.0</td>\n",
       "    </tr>\n",
       "    <tr>\n",
       "      <th>1158</th>\n",
       "      <td>107</td>\n",
       "      <td>5500 (NetNTLMv1 / NetNTLMv1+ESS)</td>\n",
       "      <td>160.1 GH/s (26.56ms)</td>\n",
       "      <td>1024</td>\n",
       "      <td>1024</td>\n",
       "      <td>GTX4090</td>\n",
       "      <td>32.0</td>\n",
       "      <td>2.0</td>\n",
       "    </tr>\n",
       "    <tr>\n",
       "      <th>1159</th>\n",
       "      <td>108</td>\n",
       "      <td>5600 (NetNTLMv2)</td>\n",
       "      <td>11764.8 MH/s (45.44ms)</td>\n",
       "      <td>64</td>\n",
       "      <td>256</td>\n",
       "      <td>GTX4090</td>\n",
       "      <td>256.0</td>\n",
       "      <td>1.0</td>\n",
       "    </tr>\n",
       "    <tr>\n",
       "      <th>1439</th>\n",
       "      <td>388</td>\n",
       "      <td>27000 (NetNTLMv1 / NetNTLMv1+ESS (NT)) [Iterat...</td>\n",
       "      <td>318.0 MH/s (0.00ms)</td>\n",
       "      <td>64</td>\n",
       "      <td>1024</td>\n",
       "      <td>GTX4090</td>\n",
       "      <td>512.0</td>\n",
       "      <td>1.0</td>\n",
       "    </tr>\n",
       "    <tr>\n",
       "      <th>1440</th>\n",
       "      <td>389</td>\n",
       "      <td>27100 (NetNTLMv2 (NT)) [Iterations: 0]</td>\n",
       "      <td>310.9 MH/s (0.00ms)</td>\n",
       "      <td>64</td>\n",
       "      <td>1024</td>\n",
       "      <td>GTX4090</td>\n",
       "      <td>512.0</td>\n",
       "      <td>1.0</td>\n",
       "    </tr>\n",
       "  </tbody>\n",
       "</table>\n",
       "</div>"
      ],
      "text/plain": [
       "       id                                          hash_mode  \\\n",
       "24     24                  NetNTLMv1-VANILLA / NetNTLMv1+ESS   \n",
       "25     25                                          NetNTLMv2   \n",
       "64     64                                               NTLM   \n",
       "149   149                  NetNTLMv1-VANILLA / NetNTLMv1+ESS   \n",
       "150   150                                          NetNTLMv2   \n",
       "189   189                                               NTLM   \n",
       "287    37                                        1000 - NTLM   \n",
       "346    96                   5500 - NetNTLMv1 / NetNTLMv1+ESS   \n",
       "347    97                                   5600 - NetNTLMv2   \n",
       "524    37                                        1000 - NTLM   \n",
       "582    95                   5500 - NetNTLMv1 / NetNTLMv1+ESS   \n",
       "583    96                                   5600 - NetNTLMv2   \n",
       "754    37                                        1000 - NTLM   \n",
       "815    98                   5500 - NetNTLMv1 / NetNTLMv1+ESS   \n",
       "816    99                                   5600 - NetNTLMv2   \n",
       "1093   42                                        1000 (NTLM)   \n",
       "1158  107                   5500 (NetNTLMv1 / NetNTLMv1+ESS)   \n",
       "1159  108                                   5600 (NetNTLMv2)   \n",
       "1439  388  27000 (NetNTLMv1 / NetNTLMv1+ESS (NT)) [Iterat...   \n",
       "1440  389             27100 (NetNTLMv2 (NT)) [Iterations: 0]   \n",
       "\n",
       "                       speed  accel  loops        GPU     thr  vec  \n",
       "24              13585.5 MH/s    256   1024   GTX980ti     NaN  NaN  \n",
       "25               1068.4 MH/s    256   1024   GTX980ti     NaN  NaN  \n",
       "64              33066.0 MH/s    256   1024   GTX980ti     NaN  NaN  \n",
       "149             11592.2 MH/s    256   1024   GTX980ti     NaN  NaN  \n",
       "150               918.2 MH/s    256   1024   GTX980ti     NaN  NaN  \n",
       "189             28408.9 MH/s    256   1024   GTX980ti     NaN  NaN  \n",
       "287   58138.5 MH/s (32.04ms)     64   1024  GTX1080ti  1024.0  2.0  \n",
       "346   28256.0 MH/s (61.71ms)     64   1024  GTX1080ti  1024.0  1.0  \n",
       "347    2445.1 MH/s (47.68ms)     64     64  GTX1080ti  1024.0  1.0  \n",
       "524   73602.4 MH/s (30.49ms)    128   1024  GTX2080ti   256.0  2.0  \n",
       "582   40620.9 MH/s (55.64ms)    128   1024  GTX2080ti   256.0  1.0  \n",
       "583   3593.6 MH/s (316.44ms)    128    512  GTX2080ti   256.0  1.0  \n",
       "754     121.2 GH/s (22.55ms)     32   1024    GTX3090  1024.0  1.0  \n",
       "815   68311.9 MH/s (40.07ms)     32   1024    GTX3090  1024.0  1.0  \n",
       "816    5032.0 MH/s (68.05ms)      4   1024    GTX3090  1024.0  1.0  \n",
       "1093     288.5 GH/s (7.24ms)    512   1024    GTX4090    32.0  8.0  \n",
       "1158    160.1 GH/s (26.56ms)   1024   1024    GTX4090    32.0  2.0  \n",
       "1159  11764.8 MH/s (45.44ms)     64    256    GTX4090   256.0  1.0  \n",
       "1439     318.0 MH/s (0.00ms)     64   1024    GTX4090   512.0  1.0  \n",
       "1440     310.9 MH/s (0.00ms)     64   1024    GTX4090   512.0  1.0  "
      ]
     },
     "execution_count": 128,
     "metadata": {},
     "output_type": "execute_result"
    }
   ],
   "source": [
    "data[data[\"hash_mode\"].str.contains(\"NTLM\")]"
   ]
  },
  {
   "cell_type": "code",
   "execution_count": 129,
   "metadata": {},
   "outputs": [],
   "source": [
    "data.to_csv(\"Data/all_devices.csv\", index=False)"
   ]
  },
  {
   "cell_type": "code",
   "execution_count": 130,
   "metadata": {},
   "outputs": [],
   "source": [
    "gpu = ['GTX980ti', 'GTX1080ti', 'GTX2080ti', 'GTX3090', 'GTX4090']\n",
    "scores = [4981,  9421,  14621,  19977,  36529]\n",
    "gpu_scores = pd.DataFrame(list(zip(gpu, scores)), columns = ['GPU', 'scores'])"
   ]
  },
  {
   "cell_type": "code",
   "execution_count": 131,
   "metadata": {},
   "outputs": [],
   "source": [
    "gpu = ['GTX980ti (2015)', 'GTX1080ti (2017)', 'GTX2080ti (2018)', 'GTX3090 (2020)', 'GTX4090 (2022)']\n",
    "scores = [4981,  9421,  14621,  19977,  36529]\n",
    "zip_hash =  [6212,12920,20577,955900,2699700]\n",
    "gpu_scores = pd.DataFrame(list(zip(gpu, scores)), columns = ['GPU', 'scores'])\n",
    "zip_scores = pd.DataFrame(list(zip(gpu, zip_hash)), columns = ['GPU', 'Hashes (H/s)'])"
   ]
  },
  {
   "cell_type": "code",
   "execution_count": 132,
   "metadata": {},
   "outputs": [],
   "source": [
    "zahlen = 10\n",
    "buchstaben_groß = 26\n",
    "buchstaben_klein = 26\n",
    "sonderzeichen = 32\n",
    "\n",
    "alles = zahlen + buchstaben_groß + buchstaben_klein + sonderzeichen\n",
    "laenge = 8\n",
    "kombinationen = alles**laenge\n"
   ]
  },
  {
   "cell_type": "code",
   "execution_count": 133,
   "metadata": {},
   "outputs": [
    {
     "name": "stdout",
     "output_type": "stream",
     "text": [
      "2044140858654976\n"
     ]
    }
   ],
   "source": [
    "\"\"\"\n",
    "Zahlen = 10\n",
    "Aa-Zz = 52\n",
    "Sonderzeichen = -+!?#%&/()=*<>:;.,~ ca. 20\n",
    "\n",
    "\"\"\"\n",
    "ings = 82**8\n",
    "print(ings)"
   ]
  },
  {
   "cell_type": "code",
   "execution_count": 134,
   "metadata": {},
   "outputs": [
    {
     "data": {
      "text/html": [
       "<div>\n",
       "<style scoped>\n",
       "    .dataframe tbody tr th:only-of-type {\n",
       "        vertical-align: middle;\n",
       "    }\n",
       "\n",
       "    .dataframe tbody tr th {\n",
       "        vertical-align: top;\n",
       "    }\n",
       "\n",
       "    .dataframe thead th {\n",
       "        text-align: right;\n",
       "    }\n",
       "</style>\n",
       "<table border=\"1\" class=\"dataframe\">\n",
       "  <thead>\n",
       "    <tr style=\"text-align: right;\">\n",
       "      <th></th>\n",
       "      <th>GPU</th>\n",
       "      <th>Hashes (H/s)</th>\n",
       "      <th>h</th>\n",
       "    </tr>\n",
       "  </thead>\n",
       "  <tbody>\n",
       "    <tr>\n",
       "      <th>0</th>\n",
       "      <td>GTX980ti (2015)</td>\n",
       "      <td>6212</td>\n",
       "      <td>476075.292094</td>\n",
       "    </tr>\n",
       "    <tr>\n",
       "      <th>1</th>\n",
       "      <td>GTX1080ti (2017)</td>\n",
       "      <td>12920</td>\n",
       "      <td>228899.358707</td>\n",
       "    </tr>\n",
       "    <tr>\n",
       "      <th>2</th>\n",
       "      <td>GTX2080ti (2018)</td>\n",
       "      <td>20577</td>\n",
       "      <td>143722.589031</td>\n",
       "    </tr>\n",
       "    <tr>\n",
       "      <th>3</th>\n",
       "      <td>GTX3090 (2020)</td>\n",
       "      <td>955900</td>\n",
       "      <td>3093.817046</td>\n",
       "    </tr>\n",
       "    <tr>\n",
       "      <th>4</th>\n",
       "      <td>GTX4090 (2022)</td>\n",
       "      <td>2699700</td>\n",
       "      <td>1095.447537</td>\n",
       "    </tr>\n",
       "  </tbody>\n",
       "</table>\n",
       "</div>"
      ],
      "text/plain": [
       "                GPU  Hashes (H/s)              h\n",
       "0   GTX980ti (2015)          6212  476075.292094\n",
       "1  GTX1080ti (2017)         12920  228899.358707\n",
       "2  GTX2080ti (2018)         20577  143722.589031\n",
       "3    GTX3090 (2020)        955900    3093.817046\n",
       "4    GTX4090 (2022)       2699700    1095.447537"
      ]
     },
     "execution_count": 134,
     "metadata": {},
     "output_type": "execute_result"
    }
   ],
   "source": [
    "zip_scores[\"h\"] = ings / zip_scores[\"Hashes (H/s)\"] / 60 / 60 / 24 / 8\n",
    "zip_scores"
   ]
  },
  {
   "cell_type": "code",
   "execution_count": 135,
   "metadata": {},
   "outputs": [
    {
     "data": {
      "text/plain": [
       "7085.41025530321"
      ]
     },
     "execution_count": 135,
     "metadata": {},
     "output_type": "execute_result"
    }
   ],
   "source": [
    "ings\n",
    "NTLM_42 = 288.5 * 1_000_000_000 # GH/s in H/s \n",
    "ings /NTLM_42 "
   ]
  },
  {
   "cell_type": "code",
   "execution_count": 136,
   "metadata": {},
   "outputs": [
    {
     "data": {
      "text/plain": [
       "0.24602118942025034"
      ]
     },
     "execution_count": 136,
     "metadata": {},
     "output_type": "execute_result"
    }
   ],
   "source": [
    "ings /NTLM_42 / 60 / 60 / 8 # Stunden"
   ]
  },
  {
   "cell_type": "code",
   "execution_count": 137,
   "metadata": {},
   "outputs": [
    {
     "ename": "NameError",
     "evalue": "name 'px' is not defined",
     "output_type": "error",
     "traceback": [
      "\u001b[1;31m---------------------------------------------------------------------------\u001b[0m",
      "\u001b[1;31mNameError\u001b[0m                                 Traceback (most recent call last)",
      "\u001b[1;32m~\\AppData\\Local\\Temp/ipykernel_21488/915375880.py\u001b[0m in \u001b[0;36m<module>\u001b[1;34m\u001b[0m\n\u001b[0;32m      5\u001b[0m      [\"GTX4090 (2022)\", 12, 124]]\n\u001b[0;32m      6\u001b[0m \u001b[1;33m\u001b[0m\u001b[0m\n\u001b[1;32m----> 7\u001b[1;33m \u001b[0mfig\u001b[0m \u001b[1;33m=\u001b[0m \u001b[0mpx\u001b[0m\u001b[1;33m.\u001b[0m\u001b[0mimshow\u001b[0m\u001b[1;33m(\u001b[0m\u001b[0mz\u001b[0m\u001b[1;33m,\u001b[0m \u001b[0mtext_auto\u001b[0m\u001b[1;33m=\u001b[0m\u001b[1;32mTrue\u001b[0m\u001b[1;33m)\u001b[0m\u001b[1;33m\u001b[0m\u001b[1;33m\u001b[0m\u001b[0m\n\u001b[0m\u001b[0;32m      8\u001b[0m \u001b[0mfig\u001b[0m\u001b[1;33m.\u001b[0m\u001b[0mshow\u001b[0m\u001b[1;33m(\u001b[0m\u001b[1;33m)\u001b[0m\u001b[1;33m\u001b[0m\u001b[1;33m\u001b[0m\u001b[0m\n",
      "\u001b[1;31mNameError\u001b[0m: name 'px' is not defined"
     ]
    }
   ],
   "source": [
    "\n",
    "z = [[\"GTX980ti (2015)\", 2, 12],\n",
    "     [\"GTX1080ti (2017)\", 4, 14],\n",
    "     [\"GTX2080ti (2018)\",8, 20],\n",
    "     [\"GTX3090 (2020)\", 10, 65,],\n",
    "     [\"GTX4090 (2022)\", 12, 124]]\n",
    "\n",
    "fig = px.imshow(z, text_auto=True)\n",
    "fig.show()"
   ]
  },
  {
   "cell_type": "code",
   "execution_count": null,
   "metadata": {},
   "outputs": [
    {
     "data": {
      "application/vnd.plotly.v1+json": {
       "config": {
        "plotlyServerURL": "https://plot.ly"
       },
       "data": [
        {
         "colorscale": [
          [
           0,
           "#00224e"
          ],
          [
           0.1111111111111111,
           "#123570"
          ],
          [
           0.2222222222222222,
           "#3b496c"
          ],
          [
           0.3333333333333333,
           "#575d6d"
          ],
          [
           0.4444444444444444,
           "#707173"
          ],
          [
           0.5555555555555556,
           "#8a8678"
          ],
          [
           0.6666666666666666,
           "#a59c74"
          ],
          [
           0.7777777777777778,
           "#c3b369"
          ],
          [
           0.8888888888888888,
           "#e1cc55"
          ],
          [
           1,
           "#fee838"
          ]
         ],
         "reversescale": false,
         "showscale": false,
         "type": "heatmap",
         "x": [
          "Passwortlänge",
          "Zeit zu hacken"
         ],
         "y": [
          "GTX980ti (2015)",
          "GTX1080ti (2017)",
          "GTX2080ti (2018)"
         ],
         "z": [
          [
           0.1,
           0.3
          ],
          [
           1,
           0.8
          ],
          [
           0.6,
           0.4
          ]
         ]
        }
       ],
       "layout": {
        "annotations": [
         {
          "font": {
           "color": "#FFFFFF"
          },
          "showarrow": false,
          "text": "0.1",
          "x": "Passwortlänge",
          "xref": "x",
          "y": "GTX980ti (2015)",
          "yref": "y"
         },
         {
          "font": {
           "color": "#FFFFFF"
          },
          "showarrow": false,
          "text": "0.3",
          "x": "Zeit zu hacken",
          "xref": "x",
          "y": "GTX980ti (2015)",
          "yref": "y"
         },
         {
          "font": {
           "color": "#000000"
          },
          "showarrow": false,
          "text": "1.0",
          "x": "Passwortlänge",
          "xref": "x",
          "y": "GTX1080ti (2017)",
          "yref": "y"
         },
         {
          "font": {
           "color": "#000000"
          },
          "showarrow": false,
          "text": "0.8",
          "x": "Zeit zu hacken",
          "xref": "x",
          "y": "GTX1080ti (2017)",
          "yref": "y"
         },
         {
          "font": {
           "color": "#000000"
          },
          "showarrow": false,
          "text": "0.6",
          "x": "Passwortlänge",
          "xref": "x",
          "y": "GTX2080ti (2018)",
          "yref": "y"
         },
         {
          "font": {
           "color": "#FFFFFF"
          },
          "showarrow": false,
          "text": "0.4",
          "x": "Zeit zu hacken",
          "xref": "x",
          "y": "GTX2080ti (2018)",
          "yref": "y"
         }
        ],
        "template": {
         "data": {
          "bar": [
           {
            "error_x": {
             "color": "#2a3f5f"
            },
            "error_y": {
             "color": "#2a3f5f"
            },
            "marker": {
             "line": {
              "color": "#E5ECF6",
              "width": 0.5
             },
             "pattern": {
              "fillmode": "overlay",
              "size": 10,
              "solidity": 0.2
             }
            },
            "type": "bar"
           }
          ],
          "barpolar": [
           {
            "marker": {
             "line": {
              "color": "#E5ECF6",
              "width": 0.5
             },
             "pattern": {
              "fillmode": "overlay",
              "size": 10,
              "solidity": 0.2
             }
            },
            "type": "barpolar"
           }
          ],
          "carpet": [
           {
            "aaxis": {
             "endlinecolor": "#2a3f5f",
             "gridcolor": "white",
             "linecolor": "white",
             "minorgridcolor": "white",
             "startlinecolor": "#2a3f5f"
            },
            "baxis": {
             "endlinecolor": "#2a3f5f",
             "gridcolor": "white",
             "linecolor": "white",
             "minorgridcolor": "white",
             "startlinecolor": "#2a3f5f"
            },
            "type": "carpet"
           }
          ],
          "choropleth": [
           {
            "colorbar": {
             "outlinewidth": 0,
             "ticks": ""
            },
            "type": "choropleth"
           }
          ],
          "contour": [
           {
            "colorbar": {
             "outlinewidth": 0,
             "ticks": ""
            },
            "colorscale": [
             [
              0,
              "#0d0887"
             ],
             [
              0.1111111111111111,
              "#46039f"
             ],
             [
              0.2222222222222222,
              "#7201a8"
             ],
             [
              0.3333333333333333,
              "#9c179e"
             ],
             [
              0.4444444444444444,
              "#bd3786"
             ],
             [
              0.5555555555555556,
              "#d8576b"
             ],
             [
              0.6666666666666666,
              "#ed7953"
             ],
             [
              0.7777777777777778,
              "#fb9f3a"
             ],
             [
              0.8888888888888888,
              "#fdca26"
             ],
             [
              1,
              "#f0f921"
             ]
            ],
            "type": "contour"
           }
          ],
          "contourcarpet": [
           {
            "colorbar": {
             "outlinewidth": 0,
             "ticks": ""
            },
            "type": "contourcarpet"
           }
          ],
          "heatmap": [
           {
            "colorbar": {
             "outlinewidth": 0,
             "ticks": ""
            },
            "colorscale": [
             [
              0,
              "#0d0887"
             ],
             [
              0.1111111111111111,
              "#46039f"
             ],
             [
              0.2222222222222222,
              "#7201a8"
             ],
             [
              0.3333333333333333,
              "#9c179e"
             ],
             [
              0.4444444444444444,
              "#bd3786"
             ],
             [
              0.5555555555555556,
              "#d8576b"
             ],
             [
              0.6666666666666666,
              "#ed7953"
             ],
             [
              0.7777777777777778,
              "#fb9f3a"
             ],
             [
              0.8888888888888888,
              "#fdca26"
             ],
             [
              1,
              "#f0f921"
             ]
            ],
            "type": "heatmap"
           }
          ],
          "heatmapgl": [
           {
            "colorbar": {
             "outlinewidth": 0,
             "ticks": ""
            },
            "colorscale": [
             [
              0,
              "#0d0887"
             ],
             [
              0.1111111111111111,
              "#46039f"
             ],
             [
              0.2222222222222222,
              "#7201a8"
             ],
             [
              0.3333333333333333,
              "#9c179e"
             ],
             [
              0.4444444444444444,
              "#bd3786"
             ],
             [
              0.5555555555555556,
              "#d8576b"
             ],
             [
              0.6666666666666666,
              "#ed7953"
             ],
             [
              0.7777777777777778,
              "#fb9f3a"
             ],
             [
              0.8888888888888888,
              "#fdca26"
             ],
             [
              1,
              "#f0f921"
             ]
            ],
            "type": "heatmapgl"
           }
          ],
          "histogram": [
           {
            "marker": {
             "pattern": {
              "fillmode": "overlay",
              "size": 10,
              "solidity": 0.2
             }
            },
            "type": "histogram"
           }
          ],
          "histogram2d": [
           {
            "colorbar": {
             "outlinewidth": 0,
             "ticks": ""
            },
            "colorscale": [
             [
              0,
              "#0d0887"
             ],
             [
              0.1111111111111111,
              "#46039f"
             ],
             [
              0.2222222222222222,
              "#7201a8"
             ],
             [
              0.3333333333333333,
              "#9c179e"
             ],
             [
              0.4444444444444444,
              "#bd3786"
             ],
             [
              0.5555555555555556,
              "#d8576b"
             ],
             [
              0.6666666666666666,
              "#ed7953"
             ],
             [
              0.7777777777777778,
              "#fb9f3a"
             ],
             [
              0.8888888888888888,
              "#fdca26"
             ],
             [
              1,
              "#f0f921"
             ]
            ],
            "type": "histogram2d"
           }
          ],
          "histogram2dcontour": [
           {
            "colorbar": {
             "outlinewidth": 0,
             "ticks": ""
            },
            "colorscale": [
             [
              0,
              "#0d0887"
             ],
             [
              0.1111111111111111,
              "#46039f"
             ],
             [
              0.2222222222222222,
              "#7201a8"
             ],
             [
              0.3333333333333333,
              "#9c179e"
             ],
             [
              0.4444444444444444,
              "#bd3786"
             ],
             [
              0.5555555555555556,
              "#d8576b"
             ],
             [
              0.6666666666666666,
              "#ed7953"
             ],
             [
              0.7777777777777778,
              "#fb9f3a"
             ],
             [
              0.8888888888888888,
              "#fdca26"
             ],
             [
              1,
              "#f0f921"
             ]
            ],
            "type": "histogram2dcontour"
           }
          ],
          "mesh3d": [
           {
            "colorbar": {
             "outlinewidth": 0,
             "ticks": ""
            },
            "type": "mesh3d"
           }
          ],
          "parcoords": [
           {
            "line": {
             "colorbar": {
              "outlinewidth": 0,
              "ticks": ""
             }
            },
            "type": "parcoords"
           }
          ],
          "pie": [
           {
            "automargin": true,
            "type": "pie"
           }
          ],
          "scatter": [
           {
            "marker": {
             "colorbar": {
              "outlinewidth": 0,
              "ticks": ""
             }
            },
            "type": "scatter"
           }
          ],
          "scatter3d": [
           {
            "line": {
             "colorbar": {
              "outlinewidth": 0,
              "ticks": ""
             }
            },
            "marker": {
             "colorbar": {
              "outlinewidth": 0,
              "ticks": ""
             }
            },
            "type": "scatter3d"
           }
          ],
          "scattercarpet": [
           {
            "marker": {
             "colorbar": {
              "outlinewidth": 0,
              "ticks": ""
             }
            },
            "type": "scattercarpet"
           }
          ],
          "scattergeo": [
           {
            "marker": {
             "colorbar": {
              "outlinewidth": 0,
              "ticks": ""
             }
            },
            "type": "scattergeo"
           }
          ],
          "scattergl": [
           {
            "marker": {
             "colorbar": {
              "outlinewidth": 0,
              "ticks": ""
             }
            },
            "type": "scattergl"
           }
          ],
          "scattermapbox": [
           {
            "marker": {
             "colorbar": {
              "outlinewidth": 0,
              "ticks": ""
             }
            },
            "type": "scattermapbox"
           }
          ],
          "scatterpolar": [
           {
            "marker": {
             "colorbar": {
              "outlinewidth": 0,
              "ticks": ""
             }
            },
            "type": "scatterpolar"
           }
          ],
          "scatterpolargl": [
           {
            "marker": {
             "colorbar": {
              "outlinewidth": 0,
              "ticks": ""
             }
            },
            "type": "scatterpolargl"
           }
          ],
          "scatterternary": [
           {
            "marker": {
             "colorbar": {
              "outlinewidth": 0,
              "ticks": ""
             }
            },
            "type": "scatterternary"
           }
          ],
          "surface": [
           {
            "colorbar": {
             "outlinewidth": 0,
             "ticks": ""
            },
            "colorscale": [
             [
              0,
              "#0d0887"
             ],
             [
              0.1111111111111111,
              "#46039f"
             ],
             [
              0.2222222222222222,
              "#7201a8"
             ],
             [
              0.3333333333333333,
              "#9c179e"
             ],
             [
              0.4444444444444444,
              "#bd3786"
             ],
             [
              0.5555555555555556,
              "#d8576b"
             ],
             [
              0.6666666666666666,
              "#ed7953"
             ],
             [
              0.7777777777777778,
              "#fb9f3a"
             ],
             [
              0.8888888888888888,
              "#fdca26"
             ],
             [
              1,
              "#f0f921"
             ]
            ],
            "type": "surface"
           }
          ],
          "table": [
           {
            "cells": {
             "fill": {
              "color": "#EBF0F8"
             },
             "line": {
              "color": "white"
             }
            },
            "header": {
             "fill": {
              "color": "#C8D4E3"
             },
             "line": {
              "color": "white"
             }
            },
            "type": "table"
           }
          ]
         },
         "layout": {
          "annotationdefaults": {
           "arrowcolor": "#2a3f5f",
           "arrowhead": 0,
           "arrowwidth": 1
          },
          "autotypenumbers": "strict",
          "coloraxis": {
           "colorbar": {
            "outlinewidth": 0,
            "ticks": ""
           }
          },
          "colorscale": {
           "diverging": [
            [
             0,
             "#8e0152"
            ],
            [
             0.1,
             "#c51b7d"
            ],
            [
             0.2,
             "#de77ae"
            ],
            [
             0.3,
             "#f1b6da"
            ],
            [
             0.4,
             "#fde0ef"
            ],
            [
             0.5,
             "#f7f7f7"
            ],
            [
             0.6,
             "#e6f5d0"
            ],
            [
             0.7,
             "#b8e186"
            ],
            [
             0.8,
             "#7fbc41"
            ],
            [
             0.9,
             "#4d9221"
            ],
            [
             1,
             "#276419"
            ]
           ],
           "sequential": [
            [
             0,
             "#0d0887"
            ],
            [
             0.1111111111111111,
             "#46039f"
            ],
            [
             0.2222222222222222,
             "#7201a8"
            ],
            [
             0.3333333333333333,
             "#9c179e"
            ],
            [
             0.4444444444444444,
             "#bd3786"
            ],
            [
             0.5555555555555556,
             "#d8576b"
            ],
            [
             0.6666666666666666,
             "#ed7953"
            ],
            [
             0.7777777777777778,
             "#fb9f3a"
            ],
            [
             0.8888888888888888,
             "#fdca26"
            ],
            [
             1,
             "#f0f921"
            ]
           ],
           "sequentialminus": [
            [
             0,
             "#0d0887"
            ],
            [
             0.1111111111111111,
             "#46039f"
            ],
            [
             0.2222222222222222,
             "#7201a8"
            ],
            [
             0.3333333333333333,
             "#9c179e"
            ],
            [
             0.4444444444444444,
             "#bd3786"
            ],
            [
             0.5555555555555556,
             "#d8576b"
            ],
            [
             0.6666666666666666,
             "#ed7953"
            ],
            [
             0.7777777777777778,
             "#fb9f3a"
            ],
            [
             0.8888888888888888,
             "#fdca26"
            ],
            [
             1,
             "#f0f921"
            ]
           ]
          },
          "colorway": [
           "#636efa",
           "#EF553B",
           "#00cc96",
           "#ab63fa",
           "#FFA15A",
           "#19d3f3",
           "#FF6692",
           "#B6E880",
           "#FF97FF",
           "#FECB52"
          ],
          "font": {
           "color": "#2a3f5f"
          },
          "geo": {
           "bgcolor": "white",
           "lakecolor": "white",
           "landcolor": "#E5ECF6",
           "showlakes": true,
           "showland": true,
           "subunitcolor": "white"
          },
          "hoverlabel": {
           "align": "left"
          },
          "hovermode": "closest",
          "mapbox": {
           "style": "light"
          },
          "paper_bgcolor": "white",
          "plot_bgcolor": "#E5ECF6",
          "polar": {
           "angularaxis": {
            "gridcolor": "white",
            "linecolor": "white",
            "ticks": ""
           },
           "bgcolor": "#E5ECF6",
           "radialaxis": {
            "gridcolor": "white",
            "linecolor": "white",
            "ticks": ""
           }
          },
          "scene": {
           "xaxis": {
            "backgroundcolor": "#E5ECF6",
            "gridcolor": "white",
            "gridwidth": 2,
            "linecolor": "white",
            "showbackground": true,
            "ticks": "",
            "zerolinecolor": "white"
           },
           "yaxis": {
            "backgroundcolor": "#E5ECF6",
            "gridcolor": "white",
            "gridwidth": 2,
            "linecolor": "white",
            "showbackground": true,
            "ticks": "",
            "zerolinecolor": "white"
           },
           "zaxis": {
            "backgroundcolor": "#E5ECF6",
            "gridcolor": "white",
            "gridwidth": 2,
            "linecolor": "white",
            "showbackground": true,
            "ticks": "",
            "zerolinecolor": "white"
           }
          },
          "shapedefaults": {
           "line": {
            "color": "#2a3f5f"
           }
          },
          "ternary": {
           "aaxis": {
            "gridcolor": "white",
            "linecolor": "white",
            "ticks": ""
           },
           "baxis": {
            "gridcolor": "white",
            "linecolor": "white",
            "ticks": ""
           },
           "bgcolor": "#E5ECF6",
           "caxis": {
            "gridcolor": "white",
            "linecolor": "white",
            "ticks": ""
           }
          },
          "title": {
           "x": 0.05
          },
          "xaxis": {
           "automargin": true,
           "gridcolor": "white",
           "linecolor": "white",
           "ticks": "",
           "title": {
            "standoff": 15
           },
           "zerolinecolor": "white",
           "zerolinewidth": 2
          },
          "yaxis": {
           "automargin": true,
           "gridcolor": "white",
           "linecolor": "white",
           "ticks": "",
           "title": {
            "standoff": 15
           },
           "zerolinecolor": "white",
           "zerolinewidth": 2
          }
         }
        },
        "xaxis": {
         "dtick": 1,
         "gridcolor": "rgb(0, 0, 0)",
         "side": "top",
         "ticks": ""
        },
        "yaxis": {
         "dtick": 1,
         "ticks": "",
         "ticksuffix": "  "
        }
       }
      }
     },
     "metadata": {},
     "output_type": "display_data"
    }
   ],
   "source": [
    "import plotly.figure_factory as ff\n",
    "\n",
    "z = [[.1, .3],\n",
    "     [1.0, .8],\n",
    "     [.6, .4]]\n",
    "\n",
    "z_text = [[.1, .3],\n",
    "     [1.0, .8],\n",
    "     [.6, .4]]\n",
    "\n",
    "x = ['Passwortlänge', 'Zeit zu hacken']\n",
    "y = ['GTX980ti (2015)', 'GTX1080ti (2017)', 'GTX2080ti (2018)']\n",
    "\n",
    "\n",
    "fig = ff.create_annotated_heatmap(z, x=x, y=y, annotation_text=z_text,colorscale='Cividis')\n",
    "fig.show()"
   ]
  },
  {
   "cell_type": "code",
   "execution_count": null,
   "metadata": {},
   "outputs": [
    {
     "data": {
      "text/plain": [
       "[]"
      ]
     },
     "execution_count": 84,
     "metadata": {},
     "output_type": "execute_result"
    }
   ],
   "source": [
    "import streamlit as st\n",
    "\n",
    "options = st.multiselect(\n",
    "    'Passwort enthält:',\n",
    "    [\"Sonderzeichen\",\"Zahlen\", \"Kleinbuchstaben\", \"Großbuchstaben\"])\n",
    "\n",
    "options"
   ]
  },
  {
   "cell_type": "code",
   "execution_count": 138,
   "metadata": {},
   "outputs": [
    {
     "data": {
      "text/plain": [
       "0.6931471805599453"
      ]
     },
     "execution_count": 138,
     "metadata": {},
     "output_type": "execute_result"
    }
   ],
   "source": [
    "import numpy as np\n",
    "np.log(2)"
   ]
  },
  {
   "cell_type": "code",
   "execution_count": null,
   "metadata": {},
   "outputs": [],
   "source": []
  },
  {
   "cell_type": "code",
   "execution_count": null,
   "metadata": {},
   "outputs": [],
   "source": []
  }
 ],
 "metadata": {
  "kernelspec": {
   "display_name": "Python 3.10.6 ('DJ')",
   "language": "python",
   "name": "python3"
  },
  "language_info": {
   "codemirror_mode": {
    "name": "ipython",
    "version": 3
   },
   "file_extension": ".py",
   "mimetype": "text/x-python",
   "name": "python",
   "nbconvert_exporter": "python",
   "pygments_lexer": "ipython3",
   "version": "3.10.6"
  },
  "orig_nbformat": 4,
  "vscode": {
   "interpreter": {
    "hash": "a117b448d959b044efb5b34a6da1239ed1e5907029d65738937643d5edbe5369"
   }
  }
 },
 "nbformat": 4,
 "nbformat_minor": 2
}
